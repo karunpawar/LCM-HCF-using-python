{
 "cells": [
  {
   "cell_type": "markdown",
   "id": "04642164-93a9-48a0-b210-04b45d070fc3",
   "metadata": {},
   "source": [
    "# Calculate LCM for integers"
   ]
  },
  {
   "cell_type": "code",
   "execution_count": 1,
   "id": "861d30d0-b50d-4228-a786-6216ebd1d698",
   "metadata": {},
   "outputs": [],
   "source": [
    "import numpy as np"
   ]
  },
  {
   "cell_type": "code",
   "execution_count": 7,
   "id": "5ec3879a-6e2a-4f0a-a2d2-14ee78901bd5",
   "metadata": {},
   "outputs": [
    {
     "name": "stdin",
     "output_type": "stream",
     "text": [
      "Enter the first number:  12\n",
      "Enter the second number:  15\n"
     ]
    },
    {
     "name": "stdout",
     "output_type": "stream",
     "text": [
      "Lcm of (12, 15) is:  60\n"
     ]
    }
   ],
   "source": [
    "Lcm = []\n",
    "def LCM(a,b):\n",
    "    if a>=b and a%b == 0:\n",
    "        Lcm.append(a)\n",
    "    elif a>b and a%b != 0:\n",
    "        for n in np.arange(1,a):\n",
    "            if (a*n)%b == 0:\n",
    "                Lcm.append(a*n)\n",
    "    elif a<=b and b%a == 0:\n",
    "        Lcm.append(b)\n",
    "    elif a<b and b%a != 0:\n",
    "        for n in np.arange(1,b):\n",
    "            if (b*n)%a == 0:\n",
    "                Lcm.append(b*n)\n",
    "    return Lcm[0]\n",
    "\n",
    "a = int(input(\"Enter the first number: \"))\n",
    "b = int(input(\"Enter the second number: \"))\n",
    "print(f\"Lcm of {(a,b)} is: \",LCM(a,b))"
   ]
  },
  {
   "cell_type": "markdown",
   "id": "92c0f123-96d6-4038-bc74-7badf9424909",
   "metadata": {},
   "source": [
    "# Calculate HCF for integers"
   ]
  },
  {
   "cell_type": "code",
   "execution_count": 12,
   "id": "5a7a0ded-7e6c-4102-91d9-a5ab053208ba",
   "metadata": {},
   "outputs": [
    {
     "name": "stdin",
     "output_type": "stream",
     "text": [
      "Enter the first number:  25\n",
      "Enter the second number:  25\n"
     ]
    },
    {
     "name": "stdout",
     "output_type": "stream",
     "text": [
      "HCF of (25, 25)) is:  5\n"
     ]
    }
   ],
   "source": [
    "Hcf = []\n",
    "def HCF(a,b):\n",
    "    if a<b:\n",
    "        for i in range(1,a+1):\n",
    "            if a%i ==0 and b%i==0:\n",
    "                Hcf.append(i)\n",
    "            #else:\n",
    "                #Hcf.insert(1,1)\n",
    "                #Hcf.extend([1,1])\n",
    "                #Hcf.append(1)\n",
    "    else:\n",
    "        for j in range(1,b+1):\n",
    "            if a%j==0 and b%j==0:\n",
    "                Hcf.append(j)\n",
    "            #else:\n",
    "                #Hcf.insert(1,1)\n",
    "                #Hcf.extend([1,1])\n",
    "                #Hcf.append(1)\n",
    "    return Hcf[1]\n",
    "\n",
    "a = int(input(\"Enter the first number: \"))\n",
    "b = int(input(\"Enter the second number: \"))\n",
    "print(f\"HCF of {(a,b)}) is: \",HCF(a,b))"
   ]
  },
  {
   "cell_type": "code",
   "execution_count": 16,
   "id": "43497690-c002-4f10-b653-a1dcf3fb3c61",
   "metadata": {},
   "outputs": [
    {
     "name": "stdin",
     "output_type": "stream",
     "text": [
      "Enter the first number:  25\n",
      "Enter the second number:  150\n"
     ]
    },
    {
     "name": "stdout",
     "output_type": "stream",
     "text": [
      "HCF of (25, 150)) is:  25\n"
     ]
    }
   ],
   "source": [
    "Hcf = 0\n",
    "def HCF(a,b):\n",
    "    if a<b:\n",
    "        for i in range(1,a+1):\n",
    "            if a%i ==0 and b%i==0:\n",
    "                Hcf = i\n",
    "            #else:\n",
    "                #Hcf.insert(1,1)\n",
    "                #Hcf.extend([1,1])\n",
    "                #Hcf.append(1)\n",
    "    else:\n",
    "        for i in range(1,b+1):\n",
    "            if a%i==0 and b%i==0:\n",
    "                Hcf = i\n",
    "            #else:\n",
    "                #Hcf.insert(1,1)\n",
    "                #Hcf.extend([1,1])\n",
    "                #Hcf.append(1)\n",
    "    return Hcf\n",
    "\n",
    "a = int(input(\"Enter the first number: \"))\n",
    "b = int(input(\"Enter the second number: \"))\n",
    "print(f\"HCF of {(a,b)}) is: \",HCF(a,b))\n",
    "                    "
   ]
  }
 ],
 "metadata": {
  "kernelspec": {
   "display_name": "Python 3 (ipykernel)",
   "language": "python",
   "name": "python3"
  },
  "language_info": {
   "codemirror_mode": {
    "name": "ipython",
    "version": 3
   },
   "file_extension": ".py",
   "mimetype": "text/x-python",
   "name": "python",
   "nbconvert_exporter": "python",
   "pygments_lexer": "ipython3",
   "version": "3.12.2"
  }
 },
 "nbformat": 4,
 "nbformat_minor": 5
}
